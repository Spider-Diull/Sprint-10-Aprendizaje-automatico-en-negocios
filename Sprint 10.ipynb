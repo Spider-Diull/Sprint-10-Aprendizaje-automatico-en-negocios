{
 "cells": [
  {
   "cell_type": "markdown",
   "metadata": {
    "toc": true
   },
   "source": [
    "<h1>Tabla de contenidos<span class=\"tocSkip\"></span></h1>\n",
    "<div class=\"toc\"><ul class=\"toc-item\"><li><span><a href=\"#Introducción\" data-toc-modified-id=\"Introducción-1\"><span class=\"toc-item-num\">1&nbsp;&nbsp;</span>Introducción</a></span></li><li><span><a href=\"#Proyecto\" data-toc-modified-id=\"Proyecto-2\"><span class=\"toc-item-num\">2&nbsp;&nbsp;</span>Proyecto</a></span><ul class=\"toc-item\"><li><span><a href=\"#Librerias-utilizadas\" data-toc-modified-id=\"Librerias-utilizadas-2.1\"><span class=\"toc-item-num\">2.1&nbsp;&nbsp;</span>Librerias utilizadas</a></span></li><li><span><a href=\"#Funciones-utilizadas-en-el-proyecto\" data-toc-modified-id=\"Funciones-utilizadas-en-el-proyecto-2.2\"><span class=\"toc-item-num\">2.2&nbsp;&nbsp;</span>Funciones utilizadas en el proyecto</a></span></li><li><span><a href=\"#Preparación-de-los-datos.\" data-toc-modified-id=\"Preparación-de-los-datos.-2.3\"><span class=\"toc-item-num\">2.3&nbsp;&nbsp;</span>Preparación de los datos.</a></span></li><li><span><a href=\"#Entrenamiento-y-pruebas-de-modelos\" data-toc-modified-id=\"Entrenamiento-y-pruebas-de-modelos-2.4\"><span class=\"toc-item-num\">2.4&nbsp;&nbsp;</span>Entrenamiento y pruebas de modelos</a></span></li><li><span><a href=\"#Calculo-y-estadisticas-del-proyecto\" data-toc-modified-id=\"Calculo-y-estadisticas-del-proyecto-2.5\"><span class=\"toc-item-num\">2.5&nbsp;&nbsp;</span>Calculo y estadisticas del proyecto</a></span></li></ul></li><li><span><a href=\"#Conclusión\" data-toc-modified-id=\"Conclusión-3\"><span class=\"toc-item-num\">3&nbsp;&nbsp;</span>Conclusión</a></span></li></ul></div>"
   ]
  },
  {
   "cell_type": "markdown",
   "metadata": {},
   "source": [
    "### Introducción\n",
    "\n",
    "Trabajamos en la compañía de extracción de petróleo OilyGiant. Tenemos que encontrar los mejores lugares donde abrir 200 pozos nuevos de petróleo. Para completar esta tarea, realizaremos los siguientes pasos:\n",
    "\n",
    "- Leer los archivos con los parámetros recogidos de pozos petrolíferos en la región seleccionada: calidad de crudo y volumen de reservas.\n",
    "- Crear un modelo para predecir el volumen de reservas en pozos nuevos.\n",
    "- Elegir los pozos petrolíferos que tienen los valores estimados más altos.\n",
    "- Elegir la región con el beneficio total más alto para los pozos petrolíferos seleccionados.\n",
    "\n",
    "\n",
    "Tenemos los datos sobre muestras de crudo de tres regiones. Ya se conocen los parámetros de cada pozo petrolero de la región. Crea un modelo que ayude a elegir la región con el mayor margen de beneficio. Analizaremos los beneficios y riesgos potenciales utilizando la técnica bootstrapping.\n",
    "\n",
    "Para este proyecto vamos a cumplir con ciertas condiciones y son las siguientes:\n",
    "\n",
    "- Solo se debe usar la regresión lineal para el entrenamiento del modelo.\n",
    "- Al explorar la región, se lleva a cabo un estudio de 500 puntos con la selección de los mejores 200 puntos para el cálculo del beneficio.\n",
    "- El presupuesto para el desarrollo de 200 pozos petroleros es de 100 millones de dólares.\n",
    "- Un barril de materias primas genera 4.5 USD de ingresos. El ingreso de una unidad de producto es de 4500 dólares (el volumen de reservas está expresado en miles de barriles).\n",
    "- Después de la evaluación de riesgo, mantén solo las regiones con riesgo de pérdidas inferior al 2.5%. De las que se ajustan a los criterios, se debe seleccionar la región con el beneficio promedio más alto."
   ]
  },
  {
   "cell_type": "markdown",
   "metadata": {},
   "source": [
    "### Proyecto\n",
    "\n",
    "#### Librerias utilizadas\n",
    "\n",
    "- Comenzamos importando las librerias necesarias."
   ]
  },
  {
   "cell_type": "code",
   "execution_count": 1,
   "metadata": {},
   "outputs": [],
   "source": [
    "#Librerias iniciales\n",
    "import pandas\n",
    "import numpy\n",
    "import matplotlib.pyplot as plt\n",
    "#Librerias de Modelos y entrenamiento\n",
    "from sklearn.preprocessing import StandardScaler\n",
    "from sklearn.model_selection import train_test_split\n",
    "from sklearn.linear_model import LinearRegression\n",
    "#Librerias de metricas\n",
    "from sklearn.metrics import mean_squared_error"
   ]
  },
  {
   "cell_type": "markdown",
   "metadata": {},
   "source": [
    "#### Funciones utilizadas en el proyecto\n",
    "\n",
    "Dejaremos esta seccion para declarar todas las funciones que utilizaremos en el proyecto.\n",
    "\n",
    "- Funcion para normalizar datos"
   ]
  },
  {
   "cell_type": "code",
   "execution_count": 2,
   "metadata": {},
   "outputs": [],
   "source": [
    "def normalizeData(data,columnsDrop,target):\n",
    "    # Estandarizamos los datos con el StandardScaler\n",
    "    scaler = StandardScaler()\n",
    "    \n",
    "    # Realizamos el metodo solo en las columnas que queremos, asi que eliminamos el target del DataFrame\n",
    "    data_transformed=data.drop(target, axis=1)\n",
    "    data_transformed=pandas.DataFrame(scaler.fit_transform(data_transformed), columns=data_transformed.columns)\n",
    "    #data_transformed.info()\n",
    "    \n",
    "    # Eliminamos las columnas del DataFrame original para ser remplazadas por los datos estandarrizados.\n",
    "    data = data.drop(columnsDrop, axis=1)\n",
    "    data = pandas.concat([data_transformed,data],axis=1)\n",
    "    #data.info()\n",
    "    \n",
    "    return data"
   ]
  },
  {
   "cell_type": "markdown",
   "metadata": {},
   "source": [
    "- Funcion para realizar los conjuntos de entrenamiento y validacion"
   ]
  },
  {
   "cell_type": "code",
   "execution_count": 3,
   "metadata": {},
   "outputs": [],
   "source": [
    "def trainSets(dataFrame,target,testSize,randomState):\n",
    "        \n",
    "    # Obtendemos el conjunto de entrenamiento y validacion.\n",
    "    train,valid=train_test_split(dataFrame,test_size=testSize,random_state=randomState)\n",
    "\n",
    "    #Entrenamiento\n",
    "    features_train=train.drop([target],axis=1)\n",
    "    target_train=train[target]\n",
    "    #Validacion\n",
    "    features_valid=valid.drop([target],axis=1)\n",
    "    target_valid= valid[target]\n",
    "    \n",
    "    return features_train,target_train,features_valid,target_valid"
   ]
  },
  {
   "cell_type": "markdown",
   "metadata": {},
   "source": [
    "- Funcion para entrenar modelos"
   ]
  },
  {
   "cell_type": "code",
   "execution_count": 4,
   "metadata": {},
   "outputs": [],
   "source": [
    "def trainModel(features_train,target_train,features_valid,target_valid,randomState):\n",
    "    # Comenzamos con el modelo\n",
    "    model= LinearRegression()\n",
    "    model.fit(features_train,target_train)\n",
    "    predictions_valid=model.predict(features_valid)# Obtenemos las predicciones del modelo en el conjunto de validación.\n",
    "    rmse=mean_squared_error(target_valid,predictions_valid)**0.5\n",
    "    print('El RMSE del modelo es:',rmse)\n",
    "    print(features_valid)\n",
    "    return model,predictions_valid "
   ]
  },
  {
   "cell_type": "markdown",
   "metadata": {},
   "source": [
    "- Función para el Bootstrapping para el intervalo de confianza"
   ]
  },
  {
   "cell_type": "code",
   "execution_count": 5,
   "metadata": {},
   "outputs": [],
   "source": [
    "def confidence_interval(data,randomState):\n",
    "    state = np.random.RandomState(12345)\n",
    "\n",
    "    # Guarda los valores del cuantil del 99 % en la variable de valores\n",
    "    values = []\n",
    "    for i in range(1000):\n",
    "        subsample = data.sample(replace=True, random_state=state)\n",
    "        values.append(subsample.quantile(0.99))\n",
    "\n",
    "    values = pd.Series(values)\n",
    "\n",
    "    lower = values.quantile(0.05)\n",
    "    upper = values.quantile(0.95)\n",
    "\n",
    "    print(lower)\n",
    "    print(upper)"
   ]
  },
  {
   "cell_type": "markdown",
   "metadata": {},
   "source": [
    "- Función para el Bootstrapping para el análisis de pruebas A/B"
   ]
  },
  {
   "cell_type": "code",
   "execution_count": 6,
   "metadata": {},
   "outputs": [],
   "source": [
    "def test_analysis(data_a,data_b,randomState):\n",
    "    # diferencia real entre las medias de los grupos\n",
    "    AB_difference = data_b.mean() - data_a.mean()\n",
    "    print(\"Diferencia entre los importes promedios de compra:\", AB_difference)\n",
    "\n",
    "    alpha = 0.05\n",
    "    state = np.random.RandomState(randomState)\n",
    "    bootstrap_samples = 1000\n",
    "    count = 0\n",
    "    for i in range(bootstrap_samples):\n",
    "        # concatena las muestras\n",
    "        united_samples =  pd.concat([data_a, data_b])\n",
    "        # crea una submuestra\n",
    "        subsample = united_samples.sample(n=500, replace=True, random_state=state)\n",
    "        # divide la submuestra por la mitad\n",
    "        subsample_A = subsample[:len(data_a)]\n",
    "        subsample_B = subsample[len(data_a):]\n",
    "        # encuentra la diferencia entre las medias\n",
    "        bootstrap_difference = subsample_B.mean()-subsample_A.mean()\n",
    "        # si la diferencia no es menor que la diferencia real, añade \"1\" al contador\n",
    "        if bootstrap_difference >= AB_difference:\n",
    "            count += 1\n",
    "    # el valor p es igual al porcentaje de valores excedentes\n",
    "    pvalue = 1. * count / bootstrap_samples\n",
    "    print('p-value =', pvalue)\n",
    "\n",
    "    if pvalue < alpha:\n",
    "        print(\"La hipótesis nula se rechaza, a saber, es probable que el importe promedio de las compras aumente\")\n",
    "    else:\n",
    "        print(\"La hipótesis nula no se rechaza, a saber, es poco probable que el importe medio de las compras aumente\")"
   ]
  },
  {
   "cell_type": "markdown",
   "metadata": {},
   "source": [
    "- Función para el calcular ganancias."
   ]
  },
  {
   "cell_type": "code",
   "execution_count": 7,
   "metadata": {},
   "outputs": [],
   "source": [
    "def revenue(df,income,presupuesto):\n",
    "    top_200_pozos=df.sort_values(by=\"predicted_value\", ascending=False)['product'].head(200) \n",
    "    volumen_total = top_200_pozos.sum()\n",
    "    benefits= ((volumen_total*income)-presupuesto) \n",
    "    return benefits\n"
   ]
  },
  {
   "cell_type": "markdown",
   "metadata": {},
   "source": [
    "- Función para el Bootstrapping para modelos"
   ]
  },
  {
   "cell_type": "code",
   "execution_count": 22,
   "metadata": {},
   "outputs": [],
   "source": [
    "def bootstrapping_for_model(df,n_muestras,income,presupuesto,randomState):\n",
    "    \n",
    "    state = numpy.random.RandomState(randomState)\n",
    "\n",
    "    benefit_muestra=[]\n",
    "    for i in range(n_muestras):\n",
    "        pozos = df.sample(n=500,replace=True, random_state=state) \n",
    "        benefit_muestra.append(revenue(pozos,income,presupuesto))\n",
    "    \n",
    "    benefit_muestra = pandas.Series(benefit_muestra)\n",
    "\n",
    "    lower = benefit_muestra.quantile(0.05)\n",
    "    upper = benefit_muestra.quantile(0.95)\n",
    "    mean = benefit_muestra.mean()\n",
    "    \n",
    "    print(\"Ingresos promedio:\", mean)\n",
    "    print(\"Cuantil del 5 %:\", lower)\n",
    "    print(\"Cuantil del 95%:\",upper)\n",
    "    \n",
    "    return benefit_muestra"
   ]
  },
  {
   "cell_type": "markdown",
   "metadata": {},
   "source": [
    "#### Preparación de los datos.\n",
    "\n",
    "- Leemos los datasets."
   ]
  },
  {
   "cell_type": "code",
   "execution_count": 9,
   "metadata": {},
   "outputs": [],
   "source": [
    "df_geo_0=pandas.read_csv('/datasets/geo_data_0.csv')\n",
    "df_geo_1=pandas.read_csv('/datasets/geo_data_1.csv')\n",
    "df_geo_2=pandas.read_csv('/datasets/geo_data_2.csv')"
   ]
  },
  {
   "cell_type": "markdown",
   "metadata": {},
   "source": [
    "- Revisamos los datos de cada Datasets, como tambien si es que hay filas duplicadas o datos ausentes."
   ]
  },
  {
   "cell_type": "code",
   "execution_count": 10,
   "metadata": {},
   "outputs": [
    {
     "name": "stdout",
     "output_type": "stream",
     "text": [
      "Revisemos el dataset geo_data_0.csv\n",
      "\n",
      "<class 'pandas.core.frame.DataFrame'>\n",
      "RangeIndex: 100000 entries, 0 to 99999\n",
      "Data columns (total 5 columns):\n",
      " #   Column   Non-Null Count   Dtype  \n",
      "---  ------   --------------   -----  \n",
      " 0   id       100000 non-null  object \n",
      " 1   f0       100000 non-null  float64\n",
      " 2   f1       100000 non-null  float64\n",
      " 3   f2       100000 non-null  float64\n",
      " 4   product  100000 non-null  float64\n",
      "dtypes: float64(4), object(1)\n",
      "memory usage: 3.8+ MB\n",
      "\n",
      "                  f0             f1             f2        product\n",
      "count  100000.000000  100000.000000  100000.000000  100000.000000\n",
      "mean        0.500419       0.250143       2.502647      92.500000\n",
      "std         0.871832       0.504433       3.248248      44.288691\n",
      "min        -1.408605      -0.848218     -12.088328       0.000000\n",
      "25%        -0.072580      -0.200881       0.287748      56.497507\n",
      "50%         0.502360       0.250252       2.515969      91.849972\n",
      "75%         1.073581       0.700646       4.715088     128.564089\n",
      "max         2.362331       1.343769      16.003790     185.364347\n",
      "\n",
      "Comprobamos los datos duplicados en el dataset.\n",
      "El dataset tiene 0 duplicados.\n",
      "\n",
      "Comprobamos si hay datos nulos.\n",
      "id         0\n",
      "f0         0\n",
      "f1         0\n",
      "f2         0\n",
      "product    0\n",
      "dtype: int64\n",
      "\n"
     ]
    },
    {
     "data": {
      "text/html": [
       "<div>\n",
       "<style scoped>\n",
       "    .dataframe tbody tr th:only-of-type {\n",
       "        vertical-align: middle;\n",
       "    }\n",
       "\n",
       "    .dataframe tbody tr th {\n",
       "        vertical-align: top;\n",
       "    }\n",
       "\n",
       "    .dataframe thead th {\n",
       "        text-align: right;\n",
       "    }\n",
       "</style>\n",
       "<table border=\"1\" class=\"dataframe\">\n",
       "  <thead>\n",
       "    <tr style=\"text-align: right;\">\n",
       "      <th></th>\n",
       "      <th>id</th>\n",
       "      <th>f0</th>\n",
       "      <th>f1</th>\n",
       "      <th>f2</th>\n",
       "      <th>product</th>\n",
       "    </tr>\n",
       "  </thead>\n",
       "  <tbody>\n",
       "    <tr>\n",
       "      <th>0</th>\n",
       "      <td>txEyH</td>\n",
       "      <td>0.705745</td>\n",
       "      <td>-0.497823</td>\n",
       "      <td>1.221170</td>\n",
       "      <td>105.280062</td>\n",
       "    </tr>\n",
       "    <tr>\n",
       "      <th>1</th>\n",
       "      <td>2acmU</td>\n",
       "      <td>1.334711</td>\n",
       "      <td>-0.340164</td>\n",
       "      <td>4.365080</td>\n",
       "      <td>73.037750</td>\n",
       "    </tr>\n",
       "    <tr>\n",
       "      <th>2</th>\n",
       "      <td>409Wp</td>\n",
       "      <td>1.022732</td>\n",
       "      <td>0.151990</td>\n",
       "      <td>1.419926</td>\n",
       "      <td>85.265647</td>\n",
       "    </tr>\n",
       "    <tr>\n",
       "      <th>3</th>\n",
       "      <td>iJLyR</td>\n",
       "      <td>-0.032172</td>\n",
       "      <td>0.139033</td>\n",
       "      <td>2.978566</td>\n",
       "      <td>168.620776</td>\n",
       "    </tr>\n",
       "    <tr>\n",
       "      <th>4</th>\n",
       "      <td>Xdl7t</td>\n",
       "      <td>1.988431</td>\n",
       "      <td>0.155413</td>\n",
       "      <td>4.751769</td>\n",
       "      <td>154.036647</td>\n",
       "    </tr>\n",
       "    <tr>\n",
       "      <th>5</th>\n",
       "      <td>wX4Hy</td>\n",
       "      <td>0.969570</td>\n",
       "      <td>0.489775</td>\n",
       "      <td>-0.735383</td>\n",
       "      <td>64.741541</td>\n",
       "    </tr>\n",
       "    <tr>\n",
       "      <th>6</th>\n",
       "      <td>tL6pL</td>\n",
       "      <td>0.645075</td>\n",
       "      <td>0.530656</td>\n",
       "      <td>1.780266</td>\n",
       "      <td>49.055285</td>\n",
       "    </tr>\n",
       "    <tr>\n",
       "      <th>7</th>\n",
       "      <td>BYPU6</td>\n",
       "      <td>-0.400648</td>\n",
       "      <td>0.808337</td>\n",
       "      <td>-5.624670</td>\n",
       "      <td>72.943292</td>\n",
       "    </tr>\n",
       "    <tr>\n",
       "      <th>8</th>\n",
       "      <td>j9Oui</td>\n",
       "      <td>0.643105</td>\n",
       "      <td>-0.551583</td>\n",
       "      <td>2.372141</td>\n",
       "      <td>113.356160</td>\n",
       "    </tr>\n",
       "    <tr>\n",
       "      <th>9</th>\n",
       "      <td>OLuZU</td>\n",
       "      <td>2.173381</td>\n",
       "      <td>0.563698</td>\n",
       "      <td>9.441852</td>\n",
       "      <td>127.910945</td>\n",
       "    </tr>\n",
       "  </tbody>\n",
       "</table>\n",
       "</div>"
      ],
      "text/plain": [
       "      id        f0        f1        f2     product\n",
       "0  txEyH  0.705745 -0.497823  1.221170  105.280062\n",
       "1  2acmU  1.334711 -0.340164  4.365080   73.037750\n",
       "2  409Wp  1.022732  0.151990  1.419926   85.265647\n",
       "3  iJLyR -0.032172  0.139033  2.978566  168.620776\n",
       "4  Xdl7t  1.988431  0.155413  4.751769  154.036647\n",
       "5  wX4Hy  0.969570  0.489775 -0.735383   64.741541\n",
       "6  tL6pL  0.645075  0.530656  1.780266   49.055285\n",
       "7  BYPU6 -0.400648  0.808337 -5.624670   72.943292\n",
       "8  j9Oui  0.643105 -0.551583  2.372141  113.356160\n",
       "9  OLuZU  2.173381  0.563698  9.441852  127.910945"
      ]
     },
     "execution_count": 10,
     "metadata": {},
     "output_type": "execute_result"
    }
   ],
   "source": [
    "print('Revisemos el dataset geo_data_0.csv')\n",
    "print()\n",
    "# Información del dataset.\n",
    "df_geo_0.info()\n",
    "print()\n",
    "# Descripcion del dataset.\n",
    "print(df_geo_0.describe())\n",
    "print()\n",
    "# Revisamos los datos duplicados\n",
    "print('Comprobamos los datos duplicados en el dataset.')\n",
    "print('El dataset tiene',df_geo_0.duplicated().sum(),'duplicados.')\n",
    "print()\n",
    "# Revisamos los datos eliminados\n",
    "print('Comprobamos si hay datos nulos.')\n",
    "print(df_geo_0.isnull().sum())\n",
    "# Revisamos las 10 primeras filas del DataFrame\n",
    "print()\n",
    "df_geo_0.head(10)"
   ]
  },
  {
   "cell_type": "code",
   "execution_count": 11,
   "metadata": {},
   "outputs": [
    {
     "name": "stdout",
     "output_type": "stream",
     "text": [
      "Revisemos el dataset geo_data_1.csv\n",
      "\n",
      "<class 'pandas.core.frame.DataFrame'>\n",
      "RangeIndex: 100000 entries, 0 to 99999\n",
      "Data columns (total 5 columns):\n",
      " #   Column   Non-Null Count   Dtype  \n",
      "---  ------   --------------   -----  \n",
      " 0   id       100000 non-null  object \n",
      " 1   f0       100000 non-null  float64\n",
      " 2   f1       100000 non-null  float64\n",
      " 3   f2       100000 non-null  float64\n",
      " 4   product  100000 non-null  float64\n",
      "dtypes: float64(4), object(1)\n",
      "memory usage: 3.8+ MB\n",
      "\n",
      "                  f0             f1             f2        product\n",
      "count  100000.000000  100000.000000  100000.000000  100000.000000\n",
      "mean        1.141296      -4.796579       2.494541      68.825000\n",
      "std         8.965932       5.119872       1.703572      45.944423\n",
      "min       -31.609576     -26.358598      -0.018144       0.000000\n",
      "25%        -6.298551      -8.267985       1.000021      26.953261\n",
      "50%         1.153055      -4.813172       2.011479      57.085625\n",
      "75%         8.621015      -1.332816       3.999904     107.813044\n",
      "max        29.421755      18.734063       5.019721     137.945408\n",
      "\n",
      "Comprobamos los datos duplicados en el dataset.\n",
      "El dataset tiene 0 duplicados.\n",
      "\n",
      "Comprobamos si hay datos nulos.\n",
      "id         0\n",
      "f0         0\n",
      "f1         0\n",
      "f2         0\n",
      "product    0\n",
      "dtype: int64\n",
      "\n"
     ]
    },
    {
     "data": {
      "text/html": [
       "<div>\n",
       "<style scoped>\n",
       "    .dataframe tbody tr th:only-of-type {\n",
       "        vertical-align: middle;\n",
       "    }\n",
       "\n",
       "    .dataframe tbody tr th {\n",
       "        vertical-align: top;\n",
       "    }\n",
       "\n",
       "    .dataframe thead th {\n",
       "        text-align: right;\n",
       "    }\n",
       "</style>\n",
       "<table border=\"1\" class=\"dataframe\">\n",
       "  <thead>\n",
       "    <tr style=\"text-align: right;\">\n",
       "      <th></th>\n",
       "      <th>id</th>\n",
       "      <th>f0</th>\n",
       "      <th>f1</th>\n",
       "      <th>f2</th>\n",
       "      <th>product</th>\n",
       "    </tr>\n",
       "  </thead>\n",
       "  <tbody>\n",
       "    <tr>\n",
       "      <th>0</th>\n",
       "      <td>kBEdx</td>\n",
       "      <td>-15.001348</td>\n",
       "      <td>-8.276000</td>\n",
       "      <td>-0.005876</td>\n",
       "      <td>3.179103</td>\n",
       "    </tr>\n",
       "    <tr>\n",
       "      <th>1</th>\n",
       "      <td>62mP7</td>\n",
       "      <td>14.272088</td>\n",
       "      <td>-3.475083</td>\n",
       "      <td>0.999183</td>\n",
       "      <td>26.953261</td>\n",
       "    </tr>\n",
       "    <tr>\n",
       "      <th>2</th>\n",
       "      <td>vyE1P</td>\n",
       "      <td>6.263187</td>\n",
       "      <td>-5.948386</td>\n",
       "      <td>5.001160</td>\n",
       "      <td>134.766305</td>\n",
       "    </tr>\n",
       "    <tr>\n",
       "      <th>3</th>\n",
       "      <td>KcrkZ</td>\n",
       "      <td>-13.081196</td>\n",
       "      <td>-11.506057</td>\n",
       "      <td>4.999415</td>\n",
       "      <td>137.945408</td>\n",
       "    </tr>\n",
       "    <tr>\n",
       "      <th>4</th>\n",
       "      <td>AHL4O</td>\n",
       "      <td>12.702195</td>\n",
       "      <td>-8.147433</td>\n",
       "      <td>5.004363</td>\n",
       "      <td>134.766305</td>\n",
       "    </tr>\n",
       "    <tr>\n",
       "      <th>5</th>\n",
       "      <td>HHckp</td>\n",
       "      <td>-3.327590</td>\n",
       "      <td>-2.205276</td>\n",
       "      <td>3.003647</td>\n",
       "      <td>84.038886</td>\n",
       "    </tr>\n",
       "    <tr>\n",
       "      <th>6</th>\n",
       "      <td>h5Ujo</td>\n",
       "      <td>-11.142655</td>\n",
       "      <td>-10.133399</td>\n",
       "      <td>4.002382</td>\n",
       "      <td>110.992147</td>\n",
       "    </tr>\n",
       "    <tr>\n",
       "      <th>7</th>\n",
       "      <td>muH9x</td>\n",
       "      <td>4.234715</td>\n",
       "      <td>-0.001354</td>\n",
       "      <td>2.004588</td>\n",
       "      <td>53.906522</td>\n",
       "    </tr>\n",
       "    <tr>\n",
       "      <th>8</th>\n",
       "      <td>YiRkx</td>\n",
       "      <td>13.355129</td>\n",
       "      <td>-0.332068</td>\n",
       "      <td>4.998647</td>\n",
       "      <td>134.766305</td>\n",
       "    </tr>\n",
       "    <tr>\n",
       "      <th>9</th>\n",
       "      <td>jG6Gi</td>\n",
       "      <td>1.069227</td>\n",
       "      <td>-11.025667</td>\n",
       "      <td>4.997844</td>\n",
       "      <td>137.945408</td>\n",
       "    </tr>\n",
       "  </tbody>\n",
       "</table>\n",
       "</div>"
      ],
      "text/plain": [
       "      id         f0         f1        f2     product\n",
       "0  kBEdx -15.001348  -8.276000 -0.005876    3.179103\n",
       "1  62mP7  14.272088  -3.475083  0.999183   26.953261\n",
       "2  vyE1P   6.263187  -5.948386  5.001160  134.766305\n",
       "3  KcrkZ -13.081196 -11.506057  4.999415  137.945408\n",
       "4  AHL4O  12.702195  -8.147433  5.004363  134.766305\n",
       "5  HHckp  -3.327590  -2.205276  3.003647   84.038886\n",
       "6  h5Ujo -11.142655 -10.133399  4.002382  110.992147\n",
       "7  muH9x   4.234715  -0.001354  2.004588   53.906522\n",
       "8  YiRkx  13.355129  -0.332068  4.998647  134.766305\n",
       "9  jG6Gi   1.069227 -11.025667  4.997844  137.945408"
      ]
     },
     "execution_count": 11,
     "metadata": {},
     "output_type": "execute_result"
    }
   ],
   "source": [
    "print('Revisemos el dataset geo_data_1.csv')\n",
    "print()\n",
    "# Información del dataset.\n",
    "df_geo_1.info()\n",
    "print()\n",
    "# Descripcion del dataset.\n",
    "print(df_geo_1.describe())\n",
    "print()\n",
    "# Revisamos los datos duplicados\n",
    "print('Comprobamos los datos duplicados en el dataset.')\n",
    "print('El dataset tiene',df_geo_1.duplicated().sum(),'duplicados.')\n",
    "print()\n",
    "# Revisamos los datos eliminados\n",
    "print('Comprobamos si hay datos nulos.')\n",
    "print(df_geo_1.isnull().sum())\n",
    "# Revisamos las 10 primeras filas del DataFrame\n",
    "print()\n",
    "df_geo_1.head(10)"
   ]
  },
  {
   "cell_type": "code",
   "execution_count": 12,
   "metadata": {},
   "outputs": [
    {
     "name": "stdout",
     "output_type": "stream",
     "text": [
      "Revisemos el dataset geo_data_2.csv\n",
      "\n",
      "<class 'pandas.core.frame.DataFrame'>\n",
      "RangeIndex: 100000 entries, 0 to 99999\n",
      "Data columns (total 5 columns):\n",
      " #   Column   Non-Null Count   Dtype  \n",
      "---  ------   --------------   -----  \n",
      " 0   id       100000 non-null  object \n",
      " 1   f0       100000 non-null  float64\n",
      " 2   f1       100000 non-null  float64\n",
      " 3   f2       100000 non-null  float64\n",
      " 4   product  100000 non-null  float64\n",
      "dtypes: float64(4), object(1)\n",
      "memory usage: 3.8+ MB\n",
      "\n",
      "                  f0             f1             f2        product\n",
      "count  100000.000000  100000.000000  100000.000000  100000.000000\n",
      "mean        0.002023      -0.002081       2.495128      95.000000\n",
      "std         1.732045       1.730417       3.473445      44.749921\n",
      "min        -8.760004      -7.084020     -11.970335       0.000000\n",
      "25%        -1.162288      -1.174820       0.130359      59.450441\n",
      "50%         0.009424      -0.009482       2.484236      94.925613\n",
      "75%         1.158535       1.163678       4.858794     130.595027\n",
      "max         7.238262       7.844801      16.739402     190.029838\n",
      "\n",
      "Comprobamos los datos duplicados en el dataset.\n",
      "El dataset tiene 0 duplicados.\n",
      "\n",
      "Comprobamos si hay datos nulos.\n",
      "id         0\n",
      "f0         0\n",
      "f1         0\n",
      "f2         0\n",
      "product    0\n",
      "dtype: int64\n",
      "\n"
     ]
    },
    {
     "data": {
      "text/html": [
       "<div>\n",
       "<style scoped>\n",
       "    .dataframe tbody tr th:only-of-type {\n",
       "        vertical-align: middle;\n",
       "    }\n",
       "\n",
       "    .dataframe tbody tr th {\n",
       "        vertical-align: top;\n",
       "    }\n",
       "\n",
       "    .dataframe thead th {\n",
       "        text-align: right;\n",
       "    }\n",
       "</style>\n",
       "<table border=\"1\" class=\"dataframe\">\n",
       "  <thead>\n",
       "    <tr style=\"text-align: right;\">\n",
       "      <th></th>\n",
       "      <th>id</th>\n",
       "      <th>f0</th>\n",
       "      <th>f1</th>\n",
       "      <th>f2</th>\n",
       "      <th>product</th>\n",
       "    </tr>\n",
       "  </thead>\n",
       "  <tbody>\n",
       "    <tr>\n",
       "      <th>0</th>\n",
       "      <td>fwXo0</td>\n",
       "      <td>-1.146987</td>\n",
       "      <td>0.963328</td>\n",
       "      <td>-0.828965</td>\n",
       "      <td>27.758673</td>\n",
       "    </tr>\n",
       "    <tr>\n",
       "      <th>1</th>\n",
       "      <td>WJtFt</td>\n",
       "      <td>0.262778</td>\n",
       "      <td>0.269839</td>\n",
       "      <td>-2.530187</td>\n",
       "      <td>56.069697</td>\n",
       "    </tr>\n",
       "    <tr>\n",
       "      <th>2</th>\n",
       "      <td>ovLUW</td>\n",
       "      <td>0.194587</td>\n",
       "      <td>0.289035</td>\n",
       "      <td>-5.586433</td>\n",
       "      <td>62.871910</td>\n",
       "    </tr>\n",
       "    <tr>\n",
       "      <th>3</th>\n",
       "      <td>q6cA6</td>\n",
       "      <td>2.236060</td>\n",
       "      <td>-0.553760</td>\n",
       "      <td>0.930038</td>\n",
       "      <td>114.572842</td>\n",
       "    </tr>\n",
       "    <tr>\n",
       "      <th>4</th>\n",
       "      <td>WPMUX</td>\n",
       "      <td>-0.515993</td>\n",
       "      <td>1.716266</td>\n",
       "      <td>5.899011</td>\n",
       "      <td>149.600746</td>\n",
       "    </tr>\n",
       "    <tr>\n",
       "      <th>5</th>\n",
       "      <td>LzZXx</td>\n",
       "      <td>-0.758092</td>\n",
       "      <td>0.710691</td>\n",
       "      <td>2.585887</td>\n",
       "      <td>90.222465</td>\n",
       "    </tr>\n",
       "    <tr>\n",
       "      <th>6</th>\n",
       "      <td>WBHRv</td>\n",
       "      <td>-0.574891</td>\n",
       "      <td>0.317727</td>\n",
       "      <td>1.773745</td>\n",
       "      <td>45.641478</td>\n",
       "    </tr>\n",
       "    <tr>\n",
       "      <th>7</th>\n",
       "      <td>XO8fn</td>\n",
       "      <td>-1.906649</td>\n",
       "      <td>-2.458350</td>\n",
       "      <td>-0.177097</td>\n",
       "      <td>72.480640</td>\n",
       "    </tr>\n",
       "    <tr>\n",
       "      <th>8</th>\n",
       "      <td>ybmQ5</td>\n",
       "      <td>1.776292</td>\n",
       "      <td>-0.279356</td>\n",
       "      <td>3.004156</td>\n",
       "      <td>106.616832</td>\n",
       "    </tr>\n",
       "    <tr>\n",
       "      <th>9</th>\n",
       "      <td>OilcN</td>\n",
       "      <td>-1.214452</td>\n",
       "      <td>-0.439314</td>\n",
       "      <td>5.922514</td>\n",
       "      <td>52.954532</td>\n",
       "    </tr>\n",
       "  </tbody>\n",
       "</table>\n",
       "</div>"
      ],
      "text/plain": [
       "      id        f0        f1        f2     product\n",
       "0  fwXo0 -1.146987  0.963328 -0.828965   27.758673\n",
       "1  WJtFt  0.262778  0.269839 -2.530187   56.069697\n",
       "2  ovLUW  0.194587  0.289035 -5.586433   62.871910\n",
       "3  q6cA6  2.236060 -0.553760  0.930038  114.572842\n",
       "4  WPMUX -0.515993  1.716266  5.899011  149.600746\n",
       "5  LzZXx -0.758092  0.710691  2.585887   90.222465\n",
       "6  WBHRv -0.574891  0.317727  1.773745   45.641478\n",
       "7  XO8fn -1.906649 -2.458350 -0.177097   72.480640\n",
       "8  ybmQ5  1.776292 -0.279356  3.004156  106.616832\n",
       "9  OilcN -1.214452 -0.439314  5.922514   52.954532"
      ]
     },
     "execution_count": 12,
     "metadata": {},
     "output_type": "execute_result"
    }
   ],
   "source": [
    "print('Revisemos el dataset geo_data_2.csv')\n",
    "print()\n",
    "# Información del dataset.\n",
    "df_geo_2.info()\n",
    "print()\n",
    "# Descripcion del dataset.\n",
    "print(df_geo_2.describe())\n",
    "print()\n",
    "# Revisamos los datos duplicados\n",
    "print('Comprobamos los datos duplicados en el dataset.')\n",
    "print('El dataset tiene',df_geo_2.duplicated().sum(),'duplicados.')\n",
    "print()\n",
    "# Revisamos los datos eliminados\n",
    "print('Comprobamos si hay datos nulos.')\n",
    "print(df_geo_2.isnull().sum())\n",
    "# Revisamos las 10 primeras filas del DataFrame\n",
    "print()\n",
    "df_geo_2.head(10)"
   ]
  },
  {
   "cell_type": "markdown",
   "metadata": {},
   "source": [
    "- Observamos que la columna 'id' en los DatasFrame son 'String' y que no aportan nada para el entrenamiento de nuestro modelo por lo que no vale la pena realizarle un proceso de encode, por lo que la vamos a borrar."
   ]
  },
  {
   "cell_type": "code",
   "execution_count": 13,
   "metadata": {},
   "outputs": [
    {
     "name": "stdout",
     "output_type": "stream",
     "text": [
      "<class 'pandas.core.frame.DataFrame'>\n",
      "RangeIndex: 100000 entries, 0 to 99999\n",
      "Data columns (total 4 columns):\n",
      " #   Column   Non-Null Count   Dtype  \n",
      "---  ------   --------------   -----  \n",
      " 0   f0       100000 non-null  float64\n",
      " 1   f1       100000 non-null  float64\n",
      " 2   f2       100000 non-null  float64\n",
      " 3   product  100000 non-null  float64\n",
      "dtypes: float64(4)\n",
      "memory usage: 3.1 MB\n",
      "<class 'pandas.core.frame.DataFrame'>\n",
      "RangeIndex: 100000 entries, 0 to 99999\n",
      "Data columns (total 4 columns):\n",
      " #   Column   Non-Null Count   Dtype  \n",
      "---  ------   --------------   -----  \n",
      " 0   f0       100000 non-null  float64\n",
      " 1   f1       100000 non-null  float64\n",
      " 2   f2       100000 non-null  float64\n",
      " 3   product  100000 non-null  float64\n",
      "dtypes: float64(4)\n",
      "memory usage: 3.1 MB\n",
      "<class 'pandas.core.frame.DataFrame'>\n",
      "RangeIndex: 100000 entries, 0 to 99999\n",
      "Data columns (total 4 columns):\n",
      " #   Column   Non-Null Count   Dtype  \n",
      "---  ------   --------------   -----  \n",
      " 0   f0       100000 non-null  float64\n",
      " 1   f1       100000 non-null  float64\n",
      " 2   f2       100000 non-null  float64\n",
      " 3   product  100000 non-null  float64\n",
      "dtypes: float64(4)\n",
      "memory usage: 3.1 MB\n"
     ]
    }
   ],
   "source": [
    "df_geo_0= df_geo_0.drop('id',axis=1)\n",
    "df_geo_1= df_geo_1.drop('id',axis=1)\n",
    "df_geo_2= df_geo_2.drop('id',axis=1)\n",
    "\n",
    "# Revisamos que efectivamente se hayan borrado las columnas.\n",
    "df_geo_0.info()\n",
    "df_geo_1.info()\n",
    "df_geo_2.info()"
   ]
  },
  {
   "cell_type": "code",
   "execution_count": 14,
   "metadata": {
    "scrolled": false
   },
   "outputs": [
    {
     "name": "stdout",
     "output_type": "stream",
     "text": [
      "Histogramas para la columna f 0\n",
      "Geo Data 0\n"
     ]
    },
    {
     "data": {
      "image/png": "[encoded data removed]",
      "text/plain": [
       "<Figure size 432x288 with 1 Axes>"
      ]
     },
     "metadata": {
      "needs_background": "light"
     },
     "output_type": "display_data"
    },
    {
     "name": "stdout",
     "output_type": "stream",
     "text": [
      "Geo Data 1\n"
     ]
    },
    {
     "data": {
      "image/png": "[encoded data removed]",
      "text/plain": [
       "<Figure size 432x288 with 1 Axes>"
      ]
     },
     "metadata": {
      "needs_background": "light"
     },
     "output_type": "display_data"
    },
    {
     "name": "stdout",
     "output_type": "stream",
     "text": [
      "Geo Data 2\n"
     ]
    },
    {
     "data": {
      "image/png": "[encoded data removed]",
      "text/plain": [
       "<Figure size 432x288 with 1 Axes>"
      ]
     },
     "metadata": {
      "needs_background": "light"
     },
     "output_type": "display_data"
    },
    {
     "name": "stdout",
     "output_type": "stream",
     "text": [
      "Histogramas para la columna f 1\n",
      "Geo Data 0\n"
     ]
    },
    {
     "data": {
      "image/png": "[encoded data removed]",
      "text/plain": [
       "<Figure size 432x288 with 1 Axes>"
      ]
     },
     "metadata": {
      "needs_background": "light"
     },
     "output_type": "display_data"
    },
    {
     "name": "stdout",
     "output_type": "stream",
     "text": [
      "Geo Data 1\n"
     ]
    },
    {
     "data": {
      "image/png": "[encoded data removed]",
      "text/plain": [
       "<Figure size 432x288 with 1 Axes>"
      ]
     },
     "metadata": {
      "needs_background": "light"
     },
     "output_type": "display_data"
    },
    {
     "name": "stdout",
     "output_type": "stream",
     "text": [
      "Geo Data 2\n"
     ]
    },
    {
     "data": {
      "image/png": "[encoded data removed]",
      "text/plain": [
       "<Figure size 432x288 with 1 Axes>"
      ]
     },
     "metadata": {
      "needs_background": "light"
     },
     "output_type": "display_data"
    },
    {
     "name": "stdout",
     "output_type": "stream",
     "text": [
      "Histogramas para la columna f 2\n",
      "Geo Data 0\n"
     ]
    },
    {
     "data": {
      "image/png": "[encoded data removed]",
      "text/plain": [
       "<Figure size 432x288 with 1 Axes>"
      ]
     },
     "metadata": {
      "needs_background": "light"
     },
     "output_type": "display_data"
    },
    {
     "name": "stdout",
     "output_type": "stream",
     "text": [
      "Geo Data 1\n"
     ]
    },
    {
     "data": {
      "image/png": "[encoded data removed]",
      "text/plain": [
       "<Figure size 432x288 with 1 Axes>"
      ]
     },
     "metadata": {
      "needs_background": "light"
     },
     "output_type": "display_data"
    },
    {
     "name": "stdout",
     "output_type": "stream",
     "text": [
      "Geo Data 2\n"
     ]
    },
    {
     "data": {
      "image/png": "[encoded data removed]",
      "text/plain": [
       "<Figure size 432x288 with 1 Axes>"
      ]
     },
     "metadata": {
      "needs_background": "light"
     },
     "output_type": "display_data"
    }
   ],
   "source": [
    "for i in range(3):\n",
    "    print('Histogramas para la columna f',i)\n",
    "    print('Geo Data 0')\n",
    "    plt.hist(df_geo_0.iloc[:,i])\n",
    "    plt.show()\n",
    "    print('Geo Data 1')\n",
    "    plt.hist(df_geo_1.iloc[:,i])\n",
    "    plt.show()\n",
    "    print('Geo Data 2')\n",
    "    plt.hist(df_geo_2.iloc[:,i])\n",
    "    plt.show()\n",
    "    "
   ]
  },
  {
   "cell_type": "code",
   "execution_count": 15,
   "metadata": {},
   "outputs": [],
   "source": [
    "df_geo_0=normalizeData(df_geo_0,['f0','f1','f2'],'product')\n",
    "df_geo_1=normalizeData(df_geo_1,['f0','f1','f2'],'product')\n",
    "df_geo_2=normalizeData(df_geo_2,['f0','f1','f2'],'product')"
   ]
  },
  {
   "cell_type": "markdown",
   "metadata": {},
   "source": [
    "#### Entrenamiento y pruebas de modelos\n",
    "\n",
    "Como vamos a realizar los conjuntos de entrenamiento, validacion y testeo correspondiente al número de DataFrame que tenemos, el proceso de entrenamiento para cada modelo sera a traves de funciones que utilizaremos en cada modelo.\n",
    "\n",
    "- Creamos una función para crear los conjuntos de entrenamiento y validacion con proporcion 75:25 para posteriormente entrenar el modelo y asi retornar un modelo entrenado con la función."
   ]
  },
  {
   "cell_type": "code",
   "execution_count": 16,
   "metadata": {},
   "outputs": [],
   "source": [
    "# Obtenemos los conjuntos de entrenamiento y validacion para la primera región\n",
    "features_train_0,target_train_0,features_valid_0,target_valid_0= trainSets(df_geo_0,'product',0.25,54321)\n",
    "# Obtenemos los conjuntos de entrenamiento y validacion para la segunda región\n",
    "features_train_1,target_train_1,features_valid_1,target_valid_1= trainSets(df_geo_1,'product',0.25,54321)\n",
    "# Obtenemos los conjuntos de entrenamiento y validacion para la tercera región\n",
    "features_train_2,target_train_2,features_valid_2,target_valid_2= trainSets(df_geo_2,'product',0.25,54231)"
   ]
  },
  {
   "cell_type": "markdown",
   "metadata": {},
   "source": [
    "- Ahora creamos los diferentes conjuntos de modelo para cada region correspondiente."
   ]
  },
  {
   "cell_type": "code",
   "execution_count": 17,
   "metadata": {},
   "outputs": [
    {
     "name": "stdout",
     "output_type": "stream",
     "text": [
      "Modelo 0:\n",
      "El RMSE del modelo es: 37.68341093860808\n",
      "             f0        f1        f2\n",
      "47590  1.163499 -0.868710  0.357863\n",
      "39469  1.306170 -1.524645  0.705086\n",
      "88291 -0.503067  0.493214 -0.148966\n",
      "46565  0.055040 -1.144698 -0.221402\n",
      "55316 -0.656839  1.335292  0.126680\n",
      "...         ...       ...       ...\n",
      "27645  1.708992  0.174967  1.144315\n",
      "57064 -0.458142 -0.496682  0.591779\n",
      "73541  0.507760  0.389652  0.281978\n",
      "10466 -1.435712  0.831824  2.302754\n",
      "14296  0.576066 -0.098650  0.793750\n",
      "\n",
      "[25000 rows x 3 columns]\n",
      "\n",
      "Modelo 1:\n",
      "El RMSE del modelo es: 0.892281970848147\n",
      "             f0        f1        f2\n",
      "47590  1.229753  2.586988 -0.876886\n",
      "39469 -0.642109 -0.249918 -1.464878\n",
      "88291  1.935910  0.552506  0.878490\n",
      "46565 -0.827784  0.444880 -0.291587\n",
      "55316 -0.944756  2.042686  0.884200\n",
      "...         ...       ...       ...\n",
      "27645 -0.602915 -1.151283 -1.468166\n",
      "57064  0.947552  0.853730 -1.470077\n",
      "73541 -0.981110 -0.358875  0.298147\n",
      "10466 -0.954442 -0.158365 -1.463627\n",
      "14296 -0.545814 -1.378312 -0.876616\n",
      "\n",
      "[25000 rows x 3 columns]\n",
      "\n",
      "Modelo 2:\n",
      "El RMSE del modelo es: 40.015077523887435\n",
      "             f0        f1        f2\n",
      "63466 -0.706032  0.720132 -0.061094\n",
      "17660  1.679567 -1.006304  1.013983\n",
      "27102 -0.127026  2.446040 -0.534345\n",
      "73361  0.021915  0.637287  0.041079\n",
      "6857  -0.247970 -0.556161 -1.309588\n",
      "...         ...       ...       ...\n",
      "99608 -0.588181  1.248355  1.418356\n",
      "70013 -0.297786 -1.867301  0.907142\n",
      "81125 -0.195334 -0.432723 -0.552731\n",
      "19762  0.159905 -0.758379  1.472402\n",
      "15578 -0.489645  0.850855  0.578850\n",
      "\n",
      "[25000 rows x 3 columns]\n"
     ]
    }
   ],
   "source": [
    "print('Modelo 0:')\n",
    "model_0,predictions_0=trainModel(features_train_0,target_train_0,features_valid_0,target_valid_0,12345)\n",
    "print()\n",
    "print('Modelo 1:')\n",
    "model_1,predictions_1=trainModel(features_train_1,target_train_1,features_valid_1,target_valid_1,12345)\n",
    "print()\n",
    "print('Modelo 2:')\n",
    "model_2,predictions_2=trainModel(features_train_2,target_train_2,features_valid_2,target_valid_2,12345)"
   ]
  },
  {
   "cell_type": "markdown",
   "metadata": {},
   "source": [
    "- Las predicciones obtenidas la concatenaremos a sus dataframe por region correspondiente."
   ]
  },
  {
   "cell_type": "code",
   "execution_count": 18,
   "metadata": {},
   "outputs": [
    {
     "name": "stdout",
     "output_type": "stream",
     "text": [
      "<class 'pandas.core.frame.DataFrame'>\n",
      "RangeIndex: 100000 entries, 0 to 99999\n",
      "Data columns (total 5 columns):\n",
      " #   Column           Non-Null Count   Dtype  \n",
      "---  ------           --------------   -----  \n",
      " 0   f0               100000 non-null  float64\n",
      " 1   f1               100000 non-null  float64\n",
      " 2   f2               100000 non-null  float64\n",
      " 3   product          100000 non-null  float64\n",
      " 4   predicted_value  100000 non-null  float64\n",
      "dtypes: float64(5)\n",
      "memory usage: 3.8 MB\n",
      "<class 'pandas.core.frame.DataFrame'>\n",
      "RangeIndex: 100000 entries, 0 to 99999\n",
      "Data columns (total 5 columns):\n",
      " #   Column           Non-Null Count   Dtype  \n",
      "---  ------           --------------   -----  \n",
      " 0   f0               100000 non-null  float64\n",
      " 1   f1               100000 non-null  float64\n",
      " 2   f2               100000 non-null  float64\n",
      " 3   product          100000 non-null  float64\n",
      " 4   predicted_value  100000 non-null  float64\n",
      "dtypes: float64(5)\n",
      "memory usage: 3.8 MB\n",
      "<class 'pandas.core.frame.DataFrame'>\n",
      "RangeIndex: 100000 entries, 0 to 99999\n",
      "Data columns (total 5 columns):\n",
      " #   Column           Non-Null Count   Dtype  \n",
      "---  ------           --------------   -----  \n",
      " 0   f0               100000 non-null  float64\n",
      " 1   f1               100000 non-null  float64\n",
      " 2   f2               100000 non-null  float64\n",
      " 3   product          100000 non-null  float64\n",
      " 4   predicted_value  100000 non-null  float64\n",
      "dtypes: float64(5)\n",
      "memory usage: 3.8 MB\n"
     ]
    }
   ],
   "source": [
    "df_geo_0['predicted_value']=model_0.predict(df_geo_0.iloc[:,:3])\n",
    "df_geo_0.info()\n",
    "df_geo_1['predicted_value']=model_1.predict(df_geo_1.iloc[:,:3])\n",
    "df_geo_1.info()\n",
    "df_geo_2['predicted_value']=model_2.predict(df_geo_2.iloc[:,:3])\n",
    "df_geo_2.info()"
   ]
  },
  {
   "cell_type": "markdown",
   "metadata": {},
   "source": [
    "#### Calculo y estadisticas del proyecto"
   ]
  },
  {
   "cell_type": "markdown",
   "metadata": {},
   "source": [
    "- Recordemos que tenemos una inversion(presupuesto) de 100 millones por los 200 pozos de petroleo, y en media un pozo debe producir al menos 500.000 dolares (income=ingreso)"
   ]
  },
  {
   "cell_type": "code",
   "execution_count": 19,
   "metadata": {},
   "outputs": [],
   "source": [
    "revenue_0=revenue(df_geo_0,50000,100000000)\n",
    "revenue_1=revenue(df_geo_1,50000,100000000)\n",
    "revenue_2=revenue(df_geo_2,50000,100000000)"
   ]
  },
  {
   "cell_type": "code",
   "execution_count": 20,
   "metadata": {},
   "outputs": [
    {
     "name": "stdout",
     "output_type": "stream",
     "text": [
      "Las ganacias para la primera region(geo_0)es: 1399148053.3086357\n",
      "Las ganacias para la primera region(geo_1)es: 1279454077.409057\n",
      "Las ganacias para la primera region(geo_2)es: 1302049306.3634608\n"
     ]
    }
   ],
   "source": [
    "print('Las ganacias para la primera region(geo_0)es:',revenue_0)\n",
    "print('Las ganacias para la primera region(geo_1)es:',revenue_1)\n",
    "print('Las ganacias para la primera region(geo_2)es:',revenue_2)"
   ]
  },
  {
   "cell_type": "markdown",
   "metadata": {},
   "source": [
    "- Ahora haremos la distibicion de los beneficios con bootstraping aplicando 1000 muestras"
   ]
  },
  {
   "cell_type": "code",
   "execution_count": 24,
   "metadata": {},
   "outputs": [
    {
     "name": "stdout",
     "output_type": "stream",
     "text": [
      "Distribucion de los beneficios para geo_0\n",
      "Ingresos promedio: 11481846916.36908\n",
      "Cuantil del 5 %: 10999446334.845694\n",
      "Cuantil del 95%: 11991024765.780512\n",
      "\n",
      "Distribucion de los beneficios para geo_1\n",
      "Ingresos promedio: 11509694368.692152\n",
      "Cuantil del 5 %: 11151842694.84712\n",
      "Cuantil del 95%: 11862372122.193941\n",
      "\n",
      "Distribucion de los beneficios para geo_2\n",
      "Ingresos promedio: 11426132976.825489\n",
      "Cuantil del 5 %: 10914031716.809166\n",
      "Cuantil del 95%: 11912643970.363644\n"
     ]
    }
   ],
   "source": [
    "print('Distribucion de los beneficios para geo_0')\n",
    "boot_revenue_0=bootstrapping_for_model(df_geo_0,1000,500000,100000000,12345)\n",
    "print('')\n",
    "print('Distribucion de los beneficios para geo_1')\n",
    "boot_revenue_1=bootstrapping_for_model(df_geo_1,1000,500000,100000000,12345)\n",
    "print('')\n",
    "print('Distribucion de los beneficios para geo_2')\n",
    "boot_revenue_2=bootstrapping_for_model(df_geo_2,1000,500000,100000000,12345)"
   ]
  },
  {
   "cell_type": "markdown",
   "metadata": {},
   "source": [
    "### Conclusión"
   ]
  },
  {
   "cell_type": "markdown",
   "metadata": {},
   "source": [
    "Como podemos ver los resultados donde obtenemos una mayor cantidad de ingresos promedios son en la loxalizacion de geo_1 por el modelo de Bootstraping pero a la hora que realizamos el calculo de ganancias en los mejores 200 pozos observamos que esta region es la peor comparada con las otras 2, cuando realizamos el calculo de ganancias generales la mejor region es la 0 ya que supera por creces a nivel monetario a las otras 2 regiones. "
   ]
  }
 ],
 "metadata": {
  "kernelspec": {
   "display_name": "Python 3 (ipykernel)",
   "language": "python",
   "name": "python3"
  },
  "language_info": {
   "codemirror_mode": {
    "name": "ipython",
    "version": 3
   },
   "file_extension": ".py",
   "mimetype": "text/x-python",
   "name": "python",
   "nbconvert_exporter": "python",
   "pygments_lexer": "ipython3",
   "version": "3.9.19"
  },
  "toc": {
   "base_numbering": 1,
   "nav_menu": {},
   "number_sections": true,
   "sideBar": true,
   "skip_h1_title": true,
   "title_cell": "Tabla de contenidos",
   "title_sidebar": "Contents",
   "toc_cell": true,
   "toc_position": {
    "height": "calc(100% - 180px)",
    "left": "10px",
    "top": "150px",
    "width": "280.15px"
   },
   "toc_section_display": true,
   "toc_window_display": false
  }
 },
 "nbformat": 4,
 "nbformat_minor": 2
}
